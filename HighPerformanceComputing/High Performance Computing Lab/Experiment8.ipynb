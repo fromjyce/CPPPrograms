{
  "nbformat": 4,
  "nbformat_minor": 0,
  "metadata": {
    "colab": {
      "private_outputs": true,
      "provenance": [],
      "gpuType": "T4"
    },
    "kernelspec": {
      "name": "python3",
      "display_name": "Python 3"
    },
    "language_info": {
      "name": "python"
    },
    "accelerator": "GPU"
  },
  "cells": [
    {
      "cell_type": "markdown",
      "source": [
        "### Check the cuda compiler version"
      ],
      "metadata": {
        "id": "ZVw_J3CaK1SI"
      }
    },
    {
      "cell_type": "code",
      "source": [
        "!nvidia-smi"
      ],
      "metadata": {
        "id": "nCyDEZzFQHam"
      },
      "execution_count": null,
      "outputs": []
    },
    {
      "cell_type": "code",
      "execution_count": null,
      "metadata": {
        "id": "F9YjE75qKWqE"
      },
      "outputs": [],
      "source": [
        "!nvcc --version"
      ]
    },
    {
      "cell_type": "code",
      "source": [
        "!git clone https://github.com/NVIDIA/cuda-samples.git"
      ],
      "metadata": {
        "id": "fLAbQkLUPkEU"
      },
      "execution_count": null,
      "outputs": []
    },
    {
      "cell_type": "code",
      "source": [
        "!cd cuda-samples/Samples/1_Utilities/deviceQuery && make\n"
      ],
      "metadata": {
        "id": "B3EUu36vQQVc"
      },
      "execution_count": null,
      "outputs": []
    },
    {
      "cell_type": "code",
      "source": [
        "!cd cuda-samples/Samples/1_Utilities/deviceQuery && ls\n",
        "!cuda-samples/Samples/1_Utilities/deviceQuery/./deviceQuery"
      ],
      "metadata": {
        "id": "oSYH_oRqQl8r"
      },
      "execution_count": null,
      "outputs": []
    },
    {
      "cell_type": "markdown",
      "source": [
        "## nvcc for Jupyter notebook"
      ],
      "metadata": {
        "id": "3ziDtLTyLArg"
      }
    },
    {
      "cell_type": "code",
      "source": [
        "!pip install nvcc4jupyter"
      ],
      "metadata": {
        "id": "-G6_2BDjK4r8"
      },
      "execution_count": null,
      "outputs": []
    },
    {
      "cell_type": "code",
      "source": [
        "%load_ext nvcc4jupyter"
      ],
      "metadata": {
        "id": "nYLqxQsBLKKg"
      },
      "execution_count": null,
      "outputs": []
    },
    {
      "cell_type": "markdown",
      "source": [
        "# Problem One - Taylor Series - Sine Approximation"
      ],
      "metadata": {
        "id": "28_5RSrkSNiY"
      }
    },
    {
      "cell_type": "markdown",
      "source": [
        "## CPU Implementation"
      ],
      "metadata": {
        "id": "cniSZfXPSZ35"
      }
    },
    {
      "cell_type": "code",
      "source": [
        "%%writefile cpu_sin.cu\n",
        "#include <stdio.h>\n",
        "#include <math.h>\n",
        "#include <time.h>\n",
        "\n",
        "void cpu_sin_approximation(float *array, float *results, int N, int p) {\n",
        "    for (int i = 0; i < N; i++) {\n",
        "        float x = array[i];\n",
        "        float term = x;\n",
        "        float sin_value = term;\n",
        "\n",
        "        for (int j = 1; j < p; j++) {\n",
        "            term *= -x * x / ((2 * j) * (2 * j + 1));\n",
        "            sin_value += term;\n",
        "        }\n",
        "        results[i] = sin_value;\n",
        "    }\n",
        "}\n"
      ],
      "metadata": {
        "id": "Aw-ws8B6gOxf"
      },
      "execution_count": null,
      "outputs": []
    },
    {
      "cell_type": "markdown",
      "source": [
        "## GPU Implementation"
      ],
      "metadata": {
        "id": "bHZKJ-VHTCsJ"
      }
    },
    {
      "cell_type": "code",
      "source": [
        "%%writefile gpu_sin.cu\n",
        "%%cuda\n",
        "#include <stdio.h>\n",
        "#include <cuda.h>\n",
        "\n",
        "__global__ void gpu_sin_approximation(float *array, float *results, int N, int p) {\n",
        "    int i = blockIdx.x * blockDim.x + threadIdx.x;\n",
        "\n",
        "    if (i < N) {\n",
        "        float x = array[i];\n",
        "        float term = x;\n",
        "        float sin_value = term;\n",
        "\n",
        "        for (int j = 1; j < p; j++) {\n",
        "            term *= -x * x / ((2 * j) * (2 * j + 1));\n",
        "            sin_value += term;\n",
        "        }\n",
        "\n",
        "        results[i] = sin_value;\n",
        "    }\n",
        "}\n",
        "\n",
        "void call_gpu_sin_approximation(float *array, float *results, int N, int p) {\n",
        "    float *d_array, *d_results;\n",
        "    cudaMalloc((void**)&d_array, N * sizeof(float));\n",
        "    cudaMalloc((void**)&d_results, N * sizeof(float));\n",
        "\n",
        "    cudaMemcpy(d_array, array, N * sizeof(float), cudaMemcpyHostToDevice);\n",
        "\n",
        "    int blockSize = 256;\n",
        "    int numBlocks = (N + blockSize - 1) / blockSize;\n",
        "\n",
        "    gpu_sin_approximation<<<numBlocks, blockSize>>>(d_array, d_results, N, p);\n",
        "\n",
        "    cudaMemcpy(results, d_results, N * sizeof(float), cudaMemcpyDeviceToHost);\n",
        "\n",
        "    cudaFree(d_array);\n",
        "    cudaFree(d_results);\n",
        "}\n"
      ],
      "metadata": {
        "id": "prUfJp3JTEde"
      },
      "execution_count": null,
      "outputs": []
    },
    {
      "cell_type": "code",
      "source": [
        "%%writefile main_program.cu\n",
        "#include <stdio.h>\n",
        "#include <stdlib.h>\n",
        "#include <time.h>\n",
        "#include <cuda.h>\n",
        "#include <math.h>\n",
        "\n",
        "__global__ void gpu_sin_approximation(float *array, float *results, int N, int p) {\n",
        "    int i = blockIdx.x * blockDim.x + threadIdx.x;\n",
        "    if (i < N) {\n",
        "        float x = array[i];\n",
        "        float term = x; // Initialize with x (the first term)\n",
        "        float sin_value = term;\n",
        "\n",
        "        for (int j = 1; j < p; j++) {\n",
        "            // Calculate each term in the series\n",
        "            term *= -x * x / ((2 * j) * (2 * j + 1)); // Using the previous term to compute the next\n",
        "            sin_value += term;\n",
        "        }\n",
        "\n",
        "        results[i] = sin_value;\n",
        "    }\n",
        "}\n",
        "\n",
        "void cpu_sin_approximation(float *array, float *results, int N, int p) {\n",
        "    for (int i = 0; i < N; i++) {\n",
        "        float x = array[i];\n",
        "        float term = x; // Initialize with x (the first term)\n",
        "        float sin_value = term;\n",
        "\n",
        "        for (int j = 1; j < p; j++) {\n",
        "            // Calculate each term in the series\n",
        "            term *= -x * x / ((2 * j) * (2 * j + 1)); // Using the previous term to compute the next\n",
        "            sin_value += term;\n",
        "        }\n",
        "\n",
        "        results[i] = sin_value;\n",
        "    }\n",
        "}\n",
        "\n",
        "void call_gpu_sin_approximation(float *array, float *results, int N, int p) {\n",
        "    float *d_array, *d_results;\n",
        "    cudaMalloc((void**)&d_array, N * sizeof(float));\n",
        "    cudaMalloc((void**)&d_results, N * sizeof(float));\n",
        "\n",
        "    cudaMemcpy(d_array, array, N * sizeof(float), cudaMemcpyHostToDevice);\n",
        "\n",
        "    int blockSize = 256;\n",
        "    int numBlocks = (N + blockSize - 1) / blockSize;\n",
        "\n",
        "    gpu_sin_approximation<<<numBlocks, blockSize>>>(d_array, d_results, N, p);\n",
        "\n",
        "    cudaMemcpy(results, d_results, N * sizeof(float), cudaMemcpyDeviceToHost);\n",
        "\n",
        "    cudaFree(d_array);\n",
        "    cudaFree(d_results);\n",
        "}\n",
        "\n",
        "int main() {\n",
        "    int N_values[] = {8, 16, 32, 64, 128, 256, 512, 1024, 2048, 4096, 8192, 16384, 32768, 65536, 131072, 262144, 524288, 1048576, 2097152, 4194304}; // Powers of 2\n",
        "    int p_values[] = {3, 5, 10, 20, 50, 100}; // Values of p\n",
        "    int num_N = sizeof(N_values) / sizeof(N_values[0]);\n",
        "    int num_p = sizeof(p_values) / sizeof(p_values[0]);\n",
        "\n",
        "    for (int n = 0; n < num_N; n++) {\n",
        "        int N = N_values[n];\n",
        "        float *array = (float *)malloc(N * sizeof(float));\n",
        "        float *results_cpu = (float *)malloc(N * sizeof(float));\n",
        "        float *results_gpu = (float *)malloc(N * sizeof(float));\n",
        "\n",
        "        for (int i = 0; i < N; i++) {\n",
        "            array[i] = ((float)rand() / (float)(RAND_MAX)) * 2 * M_PI;\n",
        "        }\n",
        "\n",
        "        for (int p = 0; p < num_p; p++) {\n",
        "            int terms = p_values[p];\n",
        "            clock_t start, end;\n",
        "\n",
        "            // CPU Timing\n",
        "            start = clock();\n",
        "            cpu_sin_approximation(array, results_cpu, N, terms);\n",
        "            end = clock();\n",
        "            double cpu_time = ((double)(end - start)) / CLOCKS_PER_SEC;\n",
        "\n",
        "            // GPU Timing\n",
        "            start = clock();\n",
        "            call_gpu_sin_approximation(array, results_gpu, N, terms);\n",
        "            end = clock();\n",
        "            double gpu_time = ((double)(end - start)) / CLOCKS_PER_SEC;\n",
        "\n",
        "            printf(\"N = %d, p = %d: CPU Time = %f seconds, GPU Time = %f seconds\\n\", N, terms, cpu_time, gpu_time);\n",
        "        }\n",
        "\n",
        "        free(array);\n",
        "        free(results_cpu);\n",
        "        free(results_gpu);\n",
        "    }\n",
        "\n",
        "    return 0;\n",
        "}\n",
        "\n"
      ],
      "metadata": {
        "id": "5LB_9TXMTL0W"
      },
      "execution_count": null,
      "outputs": []
    },
    {
      "cell_type": "code",
      "source": [
        "!nvcc main_program.cu -o sin_approximation"
      ],
      "metadata": {
        "id": "lbR9m2TAzohX"
      },
      "execution_count": null,
      "outputs": []
    },
    {
      "cell_type": "code",
      "source": [
        "!./sin_approximation\n"
      ],
      "metadata": {
        "id": "JI9Z4EUMzs_K"
      },
      "execution_count": null,
      "outputs": []
    },
    {
      "cell_type": "code",
      "source": [
        "ls"
      ],
      "metadata": {
        "id": "ZAMh50TWzwhb"
      },
      "execution_count": null,
      "outputs": []
    }
  ]
}