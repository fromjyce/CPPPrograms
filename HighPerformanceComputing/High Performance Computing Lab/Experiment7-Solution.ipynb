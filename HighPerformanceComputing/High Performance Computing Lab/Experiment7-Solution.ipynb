{
  "nbformat": 4,
  "nbformat_minor": 0,
  "metadata": {
    "colab": {
      "private_outputs": true,
      "provenance": [],
      "gpuType": "T4"
    },
    "kernelspec": {
      "name": "python3",
      "display_name": "Python 3"
    },
    "language_info": {
      "name": "python"
    },
    "accelerator": "GPU"
  },
  "cells": [
    {
      "cell_type": "markdown",
      "source": [
        "### Check the cuda compiler version"
      ],
      "metadata": {
        "id": "ZVw_J3CaK1SI"
      }
    },
    {
      "cell_type": "code",
      "source": [
        "!nvidia-smi"
      ],
      "metadata": {
        "id": "nCyDEZzFQHam"
      },
      "execution_count": null,
      "outputs": []
    },
    {
      "cell_type": "code",
      "execution_count": null,
      "metadata": {
        "id": "F9YjE75qKWqE"
      },
      "outputs": [],
      "source": [
        "!nvcc --version"
      ]
    },
    {
      "cell_type": "code",
      "source": [
        "!git clone https://github.com/NVIDIA/cuda-samples.git"
      ],
      "metadata": {
        "id": "fLAbQkLUPkEU"
      },
      "execution_count": null,
      "outputs": []
    },
    {
      "cell_type": "code",
      "source": [
        "!cd cuda-samples/Samples/1_Utilities/deviceQuery && make\n"
      ],
      "metadata": {
        "id": "B3EUu36vQQVc"
      },
      "execution_count": null,
      "outputs": []
    },
    {
      "cell_type": "code",
      "source": [
        "!cd cuda-samples/Samples/1_Utilities/deviceQuery && ls\n",
        "!cuda-samples/Samples/1_Utilities/deviceQuery/./deviceQuery"
      ],
      "metadata": {
        "id": "oSYH_oRqQl8r"
      },
      "execution_count": null,
      "outputs": []
    },
    {
      "cell_type": "markdown",
      "source": [
        "## nvcc for Jupyter notebook"
      ],
      "metadata": {
        "id": "3ziDtLTyLArg"
      }
    },
    {
      "cell_type": "code",
      "source": [
        "!pip install nvcc4jupyter"
      ],
      "metadata": {
        "id": "-G6_2BDjK4r8"
      },
      "execution_count": null,
      "outputs": []
    },
    {
      "cell_type": "code",
      "source": [
        "%load_ext nvcc4jupyter"
      ],
      "metadata": {
        "id": "nYLqxQsBLKKg"
      },
      "execution_count": null,
      "outputs": []
    },
    {
      "cell_type": "code",
      "source": [
        "%%cuda\n",
        "\n",
        "#include <stdio.h>\n",
        "#include <stdlib.h>\n",
        "#include <cuda.h>\n",
        "#include <time.h>\n",
        "\n",
        "#define N 1024\n",
        "\n",
        "__global__ void vectorMultiply(const float *A, const float *B, float *C) {\n",
        "    int idx = blockIdx.x * blockDim.x + threadIdx.x;\n",
        "    if (idx < N) {\n",
        "        C[idx] = A[idx] * B[idx];\n",
        "    }\n",
        "}\n",
        "\n",
        "void initializeVectors(float *A, float *B, int size) {\n",
        "    for (int i = 0; i < size; i++) {\n",
        "        A[i] = static_cast<float>(rand()) / RAND_MAX * 100.0f;\n",
        "        B[i] = static_cast<float>(rand()) / RAND_MAX * 100.0f;\n",
        "    }\n",
        "}\n",
        "\n",
        "int main() {\n",
        "    float *h_A, *h_B, *h_C;\n",
        "    h_A = (float *)malloc(N * sizeof(float));\n",
        "    h_B = (float *)malloc(N * sizeof(float));\n",
        "    h_C = (float *)malloc(N * sizeof(float));\n",
        "\n",
        "    srand(time(0));\n",
        "    initializeVectors(h_A, h_B, N);\n",
        "\n",
        "    float *d_A, *d_B, *d_C;\n",
        "    cudaMalloc((void **)&d_A, N * sizeof(float));\n",
        "    cudaMalloc((void **)&d_B, N * sizeof(float));\n",
        "    cudaMalloc((void **)&d_C, N * sizeof(float));\n",
        "\n",
        "    cudaMemcpy(d_A, h_A, N * sizeof(float), cudaMemcpyHostToDevice);\n",
        "    cudaMemcpy(d_B, h_B, N * sizeof(float), cudaMemcpyHostToDevice);\n",
        "\n",
        "    int blockSize = 256;\n",
        "    int numBlocks = (N + blockSize - 1) / blockSize;\n",
        "\n",
        "    // Create CUDA events for timing\n",
        "    cudaEvent_t start, stop;\n",
        "    cudaEventCreate(&start);\n",
        "    cudaEventCreate(&stop);\n",
        "\n",
        "    cudaEventRecord(start); // Start timing\n",
        "\n",
        "    vectorMultiply<<<numBlocks, blockSize>>>(d_A, d_B, d_C);\n",
        "\n",
        "    cudaEventRecord(stop); // Stop timing\n",
        "    cudaEventSynchronize(stop); // Wait for the stop event to complete\n",
        "\n",
        "    float milliseconds = 0;\n",
        "    cudaEventElapsedTime(&milliseconds, start, stop); // Calculate elapsed time\n",
        "\n",
        "    cudaMemcpy(h_C, d_C, N * sizeof(float), cudaMemcpyDeviceToHost);\n",
        "\n",
        "    for (int i = 0; i < N; i++) {\n",
        "        if (h_C[i] != h_A[i] * h_B[i]) {\n",
        "            printf(\"Error at index %d: %f != %f\\n\", i, h_C[i], h_A[i] * h_B[i]);\n",
        "            break;\n",
        "        }\n",
        "    }\n",
        "\n",
        "    printf(\"Multiplication completed successfully in %f milliseconds!\\n\", milliseconds);\n",
        "\n",
        "    // Clean up\n",
        "    cudaEventDestroy(start);\n",
        "    cudaEventDestroy(stop);\n",
        "    cudaFree(d_A);\n",
        "    cudaFree(d_B);\n",
        "    cudaFree(d_C);\n",
        "    free(h_A);\n",
        "    free(h_B);\n",
        "    free(h_C);\n",
        "\n",
        "    return 0;\n",
        "}\n"
      ],
      "metadata": {
        "id": "Aw-ws8B6gOxf"
      },
      "execution_count": null,
      "outputs": []
    }
  ]
}